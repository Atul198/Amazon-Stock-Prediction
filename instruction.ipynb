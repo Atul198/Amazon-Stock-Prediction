{
 "cells": [
  {
   "cell_type": "markdown",
   "metadata": {
    "id": "ogrFJmbC4kZp"
   },
   "source": [
    "# Prediction of Stock Price Direction\n",
    "\n",
    "# Assignment\n",
    "The task is to predict the day price direction of Amazon.com, Inc. (AMZN) stock.\n",
    "\n",
    "The stock market is very complex and highly volatile. In order to be profitable, we do not need to predict the correct price, but rather, the price direction: whether it will be higher or lower than the price that is today. If we predict it to be higher, we might as well buy some stocks, else, we should probably sell.\n",
    "\n",
    "Therefore, the target would be a binary classification whether the next day closing price will be higher than the opening price."
   ]
  },
  {
   "cell_type": "markdown",
   "metadata": {
    "id": "kDzDf4iE41Sg"
   },
   "source": [
    "## Data Description\n",
    "We have data for the period from 1997 up to year 2020 that we have split that into training (1997-2016), validation (2016-2018) and testing (2018-2020) periods. The data is available in the AMZN_train.csv, AMZN_val.csv and AMZN_test.csv files, respectively.\n",
    "<br>\n",
    "Each dataset has the same format with the following 7 columns:<br>\n",
    "<br>\n",
    "Date - in format YYYY-MM-DD<br>\n",
    "Open - stock price upon opening of an exchange<br>\n",
    "High - the highest stock price on a given day<br>\n",
    "Low - the lowest stock price on a given day<br>\n",
    "Close - stock price at the end of a trading day<br>\n",
    "Adj Close - adjusted closing price that takes into account corporate actions<br>\n",
    "Volume - the amount of shares traded over the course of a trading day<br>"
   ]
  },
  {
   "cell_type": "markdown",
   "metadata": {
    "id": "QzoTE1Mo44CO"
   },
   "source": [
    "## Practicalities\n",
    "Define, train and evaluate a predictive model that takes as the input the data provided. Do not use external data for this project. You may use any algorithm of your choice or compare multiple models.\n",
    "<br>\n",
    "Make sure that the solution reflects your entire thought process - it is more important how the code is structured rather than the final metrics. You may assume that any model resulting in AUC > 0.515 will be enough. You are expected to spend no more than 3 hours working on this project.\n",
    "<br>\n",
    "#### To download the dataset <a href=\"https://drive.google.com/drive/folders/1KcJHVPDFKjJ4l7DAZGo_8141SieXpCB0?usp=sharing\"> Click here </a>"
   ]
  },
  {
   "cell_type": "code",
   "execution_count": 1,
   "metadata": {},
   "outputs": [],
   "source": [
    "import pandas as pd\n",
    "import numpy as np\n",
    "import matplotlib.pyplot as plt\n",
    "import seaborn as sns"
   ]
  },
  {
   "cell_type": "code",
   "execution_count": 2,
   "metadata": {},
   "outputs": [],
   "source": [
    "# read dataset\n",
    "df_train = pd.read_csv('AMZN_train.csv')\n",
    "df_test = pd.read_csv('AMZN_test.csv')\n",
    "df_val = pd.read_csv('AMZN_val.csv')"
   ]
  },
  {
   "cell_type": "code",
   "execution_count": 3,
   "metadata": {},
   "outputs": [
    {
     "data": {
      "text/html": [
       "<div>\n",
       "<style scoped>\n",
       "    .dataframe tbody tr th:only-of-type {\n",
       "        vertical-align: middle;\n",
       "    }\n",
       "\n",
       "    .dataframe tbody tr th {\n",
       "        vertical-align: top;\n",
       "    }\n",
       "\n",
       "    .dataframe thead th {\n",
       "        text-align: right;\n",
       "    }\n",
       "</style>\n",
       "<table border=\"1\" class=\"dataframe\">\n",
       "  <thead>\n",
       "    <tr style=\"text-align: right;\">\n",
       "      <th></th>\n",
       "      <th>Date</th>\n",
       "      <th>Open</th>\n",
       "      <th>High</th>\n",
       "      <th>Low</th>\n",
       "      <th>Close</th>\n",
       "      <th>Adj Close</th>\n",
       "      <th>Volume</th>\n",
       "    </tr>\n",
       "  </thead>\n",
       "  <tbody>\n",
       "    <tr>\n",
       "      <th>0</th>\n",
       "      <td>1997-05-15</td>\n",
       "      <td>2.437500</td>\n",
       "      <td>2.500000</td>\n",
       "      <td>1.927083</td>\n",
       "      <td>1.958333</td>\n",
       "      <td>1.958333</td>\n",
       "      <td>72156000</td>\n",
       "    </tr>\n",
       "    <tr>\n",
       "      <th>1</th>\n",
       "      <td>1997-05-16</td>\n",
       "      <td>1.968750</td>\n",
       "      <td>1.979167</td>\n",
       "      <td>1.708333</td>\n",
       "      <td>1.729167</td>\n",
       "      <td>1.729167</td>\n",
       "      <td>14700000</td>\n",
       "    </tr>\n",
       "    <tr>\n",
       "      <th>2</th>\n",
       "      <td>1997-05-19</td>\n",
       "      <td>1.760417</td>\n",
       "      <td>1.770833</td>\n",
       "      <td>1.625000</td>\n",
       "      <td>1.708333</td>\n",
       "      <td>1.708333</td>\n",
       "      <td>6106800</td>\n",
       "    </tr>\n",
       "    <tr>\n",
       "      <th>3</th>\n",
       "      <td>1997-05-20</td>\n",
       "      <td>1.729167</td>\n",
       "      <td>1.750000</td>\n",
       "      <td>1.635417</td>\n",
       "      <td>1.635417</td>\n",
       "      <td>1.635417</td>\n",
       "      <td>5467200</td>\n",
       "    </tr>\n",
       "    <tr>\n",
       "      <th>4</th>\n",
       "      <td>1997-05-21</td>\n",
       "      <td>1.635417</td>\n",
       "      <td>1.645833</td>\n",
       "      <td>1.375000</td>\n",
       "      <td>1.427083</td>\n",
       "      <td>1.427083</td>\n",
       "      <td>18853200</td>\n",
       "    </tr>\n",
       "    <tr>\n",
       "      <th>...</th>\n",
       "      <td>...</td>\n",
       "      <td>...</td>\n",
       "      <td>...</td>\n",
       "      <td>...</td>\n",
       "      <td>...</td>\n",
       "      <td>...</td>\n",
       "      <td>...</td>\n",
       "    </tr>\n",
       "    <tr>\n",
       "      <th>4776</th>\n",
       "      <td>2016-05-09</td>\n",
       "      <td>673.950012</td>\n",
       "      <td>686.979980</td>\n",
       "      <td>671.409973</td>\n",
       "      <td>679.750000</td>\n",
       "      <td>679.750000</td>\n",
       "      <td>3982200</td>\n",
       "    </tr>\n",
       "    <tr>\n",
       "      <th>4777</th>\n",
       "      <td>2016-05-10</td>\n",
       "      <td>694.000000</td>\n",
       "      <td>704.549988</td>\n",
       "      <td>693.500000</td>\n",
       "      <td>703.070007</td>\n",
       "      <td>703.070007</td>\n",
       "      <td>6105600</td>\n",
       "    </tr>\n",
       "    <tr>\n",
       "      <th>4778</th>\n",
       "      <td>2016-05-11</td>\n",
       "      <td>705.789978</td>\n",
       "      <td>719.000000</td>\n",
       "      <td>701.650024</td>\n",
       "      <td>713.229980</td>\n",
       "      <td>713.229980</td>\n",
       "      <td>7338200</td>\n",
       "    </tr>\n",
       "    <tr>\n",
       "      <th>4779</th>\n",
       "      <td>2016-05-12</td>\n",
       "      <td>717.380005</td>\n",
       "      <td>722.450012</td>\n",
       "      <td>711.510010</td>\n",
       "      <td>717.929993</td>\n",
       "      <td>717.929993</td>\n",
       "      <td>5048200</td>\n",
       "    </tr>\n",
       "    <tr>\n",
       "      <th>4780</th>\n",
       "      <td>2016-05-13</td>\n",
       "      <td>714.640015</td>\n",
       "      <td>719.250000</td>\n",
       "      <td>706.510010</td>\n",
       "      <td>709.919983</td>\n",
       "      <td>709.919983</td>\n",
       "      <td>4763400</td>\n",
       "    </tr>\n",
       "  </tbody>\n",
       "</table>\n",
       "<p>4781 rows × 7 columns</p>\n",
       "</div>"
      ],
      "text/plain": [
       "            Date        Open        High         Low       Close   Adj Close  \\\n",
       "0     1997-05-15    2.437500    2.500000    1.927083    1.958333    1.958333   \n",
       "1     1997-05-16    1.968750    1.979167    1.708333    1.729167    1.729167   \n",
       "2     1997-05-19    1.760417    1.770833    1.625000    1.708333    1.708333   \n",
       "3     1997-05-20    1.729167    1.750000    1.635417    1.635417    1.635417   \n",
       "4     1997-05-21    1.635417    1.645833    1.375000    1.427083    1.427083   \n",
       "...          ...         ...         ...         ...         ...         ...   \n",
       "4776  2016-05-09  673.950012  686.979980  671.409973  679.750000  679.750000   \n",
       "4777  2016-05-10  694.000000  704.549988  693.500000  703.070007  703.070007   \n",
       "4778  2016-05-11  705.789978  719.000000  701.650024  713.229980  713.229980   \n",
       "4779  2016-05-12  717.380005  722.450012  711.510010  717.929993  717.929993   \n",
       "4780  2016-05-13  714.640015  719.250000  706.510010  709.919983  709.919983   \n",
       "\n",
       "        Volume  \n",
       "0     72156000  \n",
       "1     14700000  \n",
       "2      6106800  \n",
       "3      5467200  \n",
       "4     18853200  \n",
       "...        ...  \n",
       "4776   3982200  \n",
       "4777   6105600  \n",
       "4778   7338200  \n",
       "4779   5048200  \n",
       "4780   4763400  \n",
       "\n",
       "[4781 rows x 7 columns]"
      ]
     },
     "execution_count": 3,
     "metadata": {},
     "output_type": "execute_result"
    }
   ],
   "source": [
    "df_train"
   ]
  },
  {
   "cell_type": "markdown",
   "metadata": {},
   "source": [
    "### Inserting the classification based column for opening price is greter than the previous then we sell - 1 and if the price is less than the previous close then we buy - 0"
   ]
  },
  {
   "cell_type": "code",
   "execution_count": 46,
   "metadata": {},
   "outputs": [],
   "source": [
    "df_train['Date'] = pd.to_datetime(df_train['Date'])\n",
    "df_test['Date'] = pd.to_datetime(df_test['Date'])\n",
    "df_val['Date'] = pd.to_datetime(df_val['Date'])"
   ]
  },
  {
   "cell_type": "code",
   "execution_count": 101,
   "metadata": {},
   "outputs": [],
   "source": [
    "def datetime_preprocessing(df):\n",
    "    for col in df.select_dtypes(include=['datetime']):\n",
    "        df['Day'] = df[col].dt.day\n",
    "        df['Month'] = df[col].dt.month\n",
    "        df['Year'] = df[col].dt.year\n",
    "        df.drop(columns=[col], inplace=True)\n",
    "    return df"
   ]
  },
  {
   "cell_type": "markdown",
   "metadata": {},
   "source": [
    "### Seprating Day, Month, Year from the dataset"
   ]
  },
  {
   "cell_type": "code",
   "execution_count": 110,
   "metadata": {},
   "outputs": [
    {
     "data": {
      "text/html": [
       "<div>\n",
       "<style scoped>\n",
       "    .dataframe tbody tr th:only-of-type {\n",
       "        vertical-align: middle;\n",
       "    }\n",
       "\n",
       "    .dataframe tbody tr th {\n",
       "        vertical-align: top;\n",
       "    }\n",
       "\n",
       "    .dataframe thead th {\n",
       "        text-align: right;\n",
       "    }\n",
       "</style>\n",
       "<table border=\"1\" class=\"dataframe\">\n",
       "  <thead>\n",
       "    <tr style=\"text-align: right;\">\n",
       "      <th></th>\n",
       "      <th>Open</th>\n",
       "      <th>High</th>\n",
       "      <th>Low</th>\n",
       "      <th>Close</th>\n",
       "      <th>Adj Close</th>\n",
       "      <th>Volume</th>\n",
       "      <th>Buy_indicator</th>\n",
       "      <th>Day</th>\n",
       "      <th>Month</th>\n",
       "      <th>Year</th>\n",
       "    </tr>\n",
       "  </thead>\n",
       "  <tbody>\n",
       "    <tr>\n",
       "      <th>0</th>\n",
       "      <td>710.130005</td>\n",
       "      <td>713.250000</td>\n",
       "      <td>700.280029</td>\n",
       "      <td>710.659973</td>\n",
       "      <td>710.659973</td>\n",
       "      <td>5432900</td>\n",
       "      <td>0</td>\n",
       "      <td>16</td>\n",
       "      <td>5</td>\n",
       "      <td>2016</td>\n",
       "    </tr>\n",
       "    <tr>\n",
       "      <th>1</th>\n",
       "      <td>709.900024</td>\n",
       "      <td>714.469971</td>\n",
       "      <td>693.909973</td>\n",
       "      <td>695.270020</td>\n",
       "      <td>695.270020</td>\n",
       "      <td>5121400</td>\n",
       "      <td>0</td>\n",
       "      <td>17</td>\n",
       "      <td>5</td>\n",
       "      <td>2016</td>\n",
       "    </tr>\n",
       "    <tr>\n",
       "      <th>2</th>\n",
       "      <td>689.559998</td>\n",
       "      <td>702.539978</td>\n",
       "      <td>688.760010</td>\n",
       "      <td>697.450012</td>\n",
       "      <td>697.450012</td>\n",
       "      <td>4283200</td>\n",
       "      <td>0</td>\n",
       "      <td>18</td>\n",
       "      <td>5</td>\n",
       "      <td>2016</td>\n",
       "    </tr>\n",
       "    <tr>\n",
       "      <th>3</th>\n",
       "      <td>691.880005</td>\n",
       "      <td>699.400024</td>\n",
       "      <td>689.559998</td>\n",
       "      <td>698.520020</td>\n",
       "      <td>698.520020</td>\n",
       "      <td>3025600</td>\n",
       "      <td>1</td>\n",
       "      <td>19</td>\n",
       "      <td>5</td>\n",
       "      <td>2016</td>\n",
       "    </tr>\n",
       "    <tr>\n",
       "      <th>4</th>\n",
       "      <td>701.049988</td>\n",
       "      <td>707.239990</td>\n",
       "      <td>700.000000</td>\n",
       "      <td>702.799988</td>\n",
       "      <td>702.799988</td>\n",
       "      <td>2916200</td>\n",
       "      <td>1</td>\n",
       "      <td>20</td>\n",
       "      <td>5</td>\n",
       "      <td>2016</td>\n",
       "    </tr>\n",
       "    <tr>\n",
       "      <th>...</th>\n",
       "      <td>...</td>\n",
       "      <td>...</td>\n",
       "      <td>...</td>\n",
       "      <td>...</td>\n",
       "      <td>...</td>\n",
       "      <td>...</td>\n",
       "      <td>...</td>\n",
       "      <td>...</td>\n",
       "      <td>...</td>\n",
       "      <td>...</td>\n",
       "    </tr>\n",
       "    <tr>\n",
       "      <th>498</th>\n",
       "      <td>1595.000000</td>\n",
       "      <td>1596.880005</td>\n",
       "      <td>1582.510010</td>\n",
       "      <td>1592.390015</td>\n",
       "      <td>1592.390015</td>\n",
       "      <td>3067900</td>\n",
       "      <td>1</td>\n",
       "      <td>8</td>\n",
       "      <td>5</td>\n",
       "      <td>2018</td>\n",
       "    </tr>\n",
       "    <tr>\n",
       "      <th>499</th>\n",
       "      <td>1600.000000</td>\n",
       "      <td>1608.000000</td>\n",
       "      <td>1592.000000</td>\n",
       "      <td>1608.000000</td>\n",
       "      <td>1608.000000</td>\n",
       "      <td>3637300</td>\n",
       "      <td>1</td>\n",
       "      <td>9</td>\n",
       "      <td>5</td>\n",
       "      <td>2018</td>\n",
       "    </tr>\n",
       "    <tr>\n",
       "      <th>500</th>\n",
       "      <td>1608.479980</td>\n",
       "      <td>1615.599976</td>\n",
       "      <td>1603.439941</td>\n",
       "      <td>1609.079956</td>\n",
       "      <td>1609.079956</td>\n",
       "      <td>2817500</td>\n",
       "      <td>1</td>\n",
       "      <td>10</td>\n",
       "      <td>5</td>\n",
       "      <td>2018</td>\n",
       "    </tr>\n",
       "    <tr>\n",
       "      <th>501</th>\n",
       "      <td>1610.989990</td>\n",
       "      <td>1611.099976</td>\n",
       "      <td>1597.890015</td>\n",
       "      <td>1602.910034</td>\n",
       "      <td>1602.910034</td>\n",
       "      <td>2263900</td>\n",
       "      <td>1</td>\n",
       "      <td>11</td>\n",
       "      <td>5</td>\n",
       "      <td>2018</td>\n",
       "    </tr>\n",
       "    <tr>\n",
       "      <th>502</th>\n",
       "      <td>1604.000000</td>\n",
       "      <td>1611.180054</td>\n",
       "      <td>1600.050049</td>\n",
       "      <td>1601.540039</td>\n",
       "      <td>1601.540039</td>\n",
       "      <td>2509500</td>\n",
       "      <td>0</td>\n",
       "      <td>14</td>\n",
       "      <td>5</td>\n",
       "      <td>2018</td>\n",
       "    </tr>\n",
       "  </tbody>\n",
       "</table>\n",
       "<p>503 rows × 10 columns</p>\n",
       "</div>"
      ],
      "text/plain": [
       "            Open         High          Low        Close    Adj Close   Volume  \\\n",
       "0     710.130005   713.250000   700.280029   710.659973   710.659973  5432900   \n",
       "1     709.900024   714.469971   693.909973   695.270020   695.270020  5121400   \n",
       "2     689.559998   702.539978   688.760010   697.450012   697.450012  4283200   \n",
       "3     691.880005   699.400024   689.559998   698.520020   698.520020  3025600   \n",
       "4     701.049988   707.239990   700.000000   702.799988   702.799988  2916200   \n",
       "..           ...          ...          ...          ...          ...      ...   \n",
       "498  1595.000000  1596.880005  1582.510010  1592.390015  1592.390015  3067900   \n",
       "499  1600.000000  1608.000000  1592.000000  1608.000000  1608.000000  3637300   \n",
       "500  1608.479980  1615.599976  1603.439941  1609.079956  1609.079956  2817500   \n",
       "501  1610.989990  1611.099976  1597.890015  1602.910034  1602.910034  2263900   \n",
       "502  1604.000000  1611.180054  1600.050049  1601.540039  1601.540039  2509500   \n",
       "\n",
       "     Buy_indicator  Day  Month  Year  \n",
       "0                0   16      5  2016  \n",
       "1                0   17      5  2016  \n",
       "2                0   18      5  2016  \n",
       "3                1   19      5  2016  \n",
       "4                1   20      5  2016  \n",
       "..             ...  ...    ...   ...  \n",
       "498              1    8      5  2018  \n",
       "499              1    9      5  2018  \n",
       "500              1   10      5  2018  \n",
       "501              1   11      5  2018  \n",
       "502              0   14      5  2018  \n",
       "\n",
       "[503 rows x 10 columns]"
      ]
     },
     "execution_count": 110,
     "metadata": {},
     "output_type": "execute_result"
    }
   ],
   "source": [
    "datetime_preprocessing(df_train)\n",
    "datetime_preprocessing(df_test)\n",
    "datetime_preprocessing(df_val)"
   ]
  },
  {
   "cell_type": "markdown",
   "metadata": {},
   "source": [
    "### Creating new column which indicate buy or sell the stock"
   ]
  },
  {
   "cell_type": "code",
   "execution_count": 113,
   "metadata": {},
   "outputs": [],
   "source": [
    "df_train['Buy_indicator'] = (df_train['Open'].shift(-1) > df_train['Close']).astype(int)\n",
    "df_test['Buy_indicator'] = (df_test['Open'].shift(-1) > df_test['Close']).astype(int)\n",
    "df_val['Buy_indicator'] = (df_val['Open'].shift(-1) > df_val['Close']).astype(int)"
   ]
  },
  {
   "cell_type": "code",
   "execution_count": 115,
   "metadata": {},
   "outputs": [
    {
     "data": {
      "text/html": [
       "<div>\n",
       "<style scoped>\n",
       "    .dataframe tbody tr th:only-of-type {\n",
       "        vertical-align: middle;\n",
       "    }\n",
       "\n",
       "    .dataframe tbody tr th {\n",
       "        vertical-align: top;\n",
       "    }\n",
       "\n",
       "    .dataframe thead th {\n",
       "        text-align: right;\n",
       "    }\n",
       "</style>\n",
       "<table border=\"1\" class=\"dataframe\">\n",
       "  <thead>\n",
       "    <tr style=\"text-align: right;\">\n",
       "      <th></th>\n",
       "      <th>Open</th>\n",
       "      <th>High</th>\n",
       "      <th>Low</th>\n",
       "      <th>Close</th>\n",
       "      <th>Adj Close</th>\n",
       "      <th>Volume</th>\n",
       "      <th>Buy_indicator</th>\n",
       "      <th>Day</th>\n",
       "      <th>Month</th>\n",
       "      <th>Year</th>\n",
       "    </tr>\n",
       "  </thead>\n",
       "  <tbody>\n",
       "    <tr>\n",
       "      <th>0</th>\n",
       "      <td>2.437500</td>\n",
       "      <td>2.500000</td>\n",
       "      <td>1.927083</td>\n",
       "      <td>1.958333</td>\n",
       "      <td>1.958333</td>\n",
       "      <td>72156000</td>\n",
       "      <td>1</td>\n",
       "      <td>15</td>\n",
       "      <td>5</td>\n",
       "      <td>1997</td>\n",
       "    </tr>\n",
       "    <tr>\n",
       "      <th>1</th>\n",
       "      <td>1.968750</td>\n",
       "      <td>1.979167</td>\n",
       "      <td>1.708333</td>\n",
       "      <td>1.729167</td>\n",
       "      <td>1.729167</td>\n",
       "      <td>14700000</td>\n",
       "      <td>1</td>\n",
       "      <td>16</td>\n",
       "      <td>5</td>\n",
       "      <td>1997</td>\n",
       "    </tr>\n",
       "    <tr>\n",
       "      <th>2</th>\n",
       "      <td>1.760417</td>\n",
       "      <td>1.770833</td>\n",
       "      <td>1.625000</td>\n",
       "      <td>1.708333</td>\n",
       "      <td>1.708333</td>\n",
       "      <td>6106800</td>\n",
       "      <td>1</td>\n",
       "      <td>19</td>\n",
       "      <td>5</td>\n",
       "      <td>1997</td>\n",
       "    </tr>\n",
       "    <tr>\n",
       "      <th>3</th>\n",
       "      <td>1.729167</td>\n",
       "      <td>1.750000</td>\n",
       "      <td>1.635417</td>\n",
       "      <td>1.635417</td>\n",
       "      <td>1.635417</td>\n",
       "      <td>5467200</td>\n",
       "      <td>0</td>\n",
       "      <td>20</td>\n",
       "      <td>5</td>\n",
       "      <td>1997</td>\n",
       "    </tr>\n",
       "    <tr>\n",
       "      <th>4</th>\n",
       "      <td>1.635417</td>\n",
       "      <td>1.645833</td>\n",
       "      <td>1.375000</td>\n",
       "      <td>1.427083</td>\n",
       "      <td>1.427083</td>\n",
       "      <td>18853200</td>\n",
       "      <td>1</td>\n",
       "      <td>21</td>\n",
       "      <td>5</td>\n",
       "      <td>1997</td>\n",
       "    </tr>\n",
       "    <tr>\n",
       "      <th>...</th>\n",
       "      <td>...</td>\n",
       "      <td>...</td>\n",
       "      <td>...</td>\n",
       "      <td>...</td>\n",
       "      <td>...</td>\n",
       "      <td>...</td>\n",
       "      <td>...</td>\n",
       "      <td>...</td>\n",
       "      <td>...</td>\n",
       "      <td>...</td>\n",
       "    </tr>\n",
       "    <tr>\n",
       "      <th>4776</th>\n",
       "      <td>673.950012</td>\n",
       "      <td>686.979980</td>\n",
       "      <td>671.409973</td>\n",
       "      <td>679.750000</td>\n",
       "      <td>679.750000</td>\n",
       "      <td>3982200</td>\n",
       "      <td>1</td>\n",
       "      <td>9</td>\n",
       "      <td>5</td>\n",
       "      <td>2016</td>\n",
       "    </tr>\n",
       "    <tr>\n",
       "      <th>4777</th>\n",
       "      <td>694.000000</td>\n",
       "      <td>704.549988</td>\n",
       "      <td>693.500000</td>\n",
       "      <td>703.070007</td>\n",
       "      <td>703.070007</td>\n",
       "      <td>6105600</td>\n",
       "      <td>1</td>\n",
       "      <td>10</td>\n",
       "      <td>5</td>\n",
       "      <td>2016</td>\n",
       "    </tr>\n",
       "    <tr>\n",
       "      <th>4778</th>\n",
       "      <td>705.789978</td>\n",
       "      <td>719.000000</td>\n",
       "      <td>701.650024</td>\n",
       "      <td>713.229980</td>\n",
       "      <td>713.229980</td>\n",
       "      <td>7338200</td>\n",
       "      <td>1</td>\n",
       "      <td>11</td>\n",
       "      <td>5</td>\n",
       "      <td>2016</td>\n",
       "    </tr>\n",
       "    <tr>\n",
       "      <th>4779</th>\n",
       "      <td>717.380005</td>\n",
       "      <td>722.450012</td>\n",
       "      <td>711.510010</td>\n",
       "      <td>717.929993</td>\n",
       "      <td>717.929993</td>\n",
       "      <td>5048200</td>\n",
       "      <td>0</td>\n",
       "      <td>12</td>\n",
       "      <td>5</td>\n",
       "      <td>2016</td>\n",
       "    </tr>\n",
       "    <tr>\n",
       "      <th>4780</th>\n",
       "      <td>714.640015</td>\n",
       "      <td>719.250000</td>\n",
       "      <td>706.510010</td>\n",
       "      <td>709.919983</td>\n",
       "      <td>709.919983</td>\n",
       "      <td>4763400</td>\n",
       "      <td>0</td>\n",
       "      <td>13</td>\n",
       "      <td>5</td>\n",
       "      <td>2016</td>\n",
       "    </tr>\n",
       "  </tbody>\n",
       "</table>\n",
       "<p>4781 rows × 10 columns</p>\n",
       "</div>"
      ],
      "text/plain": [
       "            Open        High         Low       Close   Adj Close    Volume  \\\n",
       "0       2.437500    2.500000    1.927083    1.958333    1.958333  72156000   \n",
       "1       1.968750    1.979167    1.708333    1.729167    1.729167  14700000   \n",
       "2       1.760417    1.770833    1.625000    1.708333    1.708333   6106800   \n",
       "3       1.729167    1.750000    1.635417    1.635417    1.635417   5467200   \n",
       "4       1.635417    1.645833    1.375000    1.427083    1.427083  18853200   \n",
       "...          ...         ...         ...         ...         ...       ...   \n",
       "4776  673.950012  686.979980  671.409973  679.750000  679.750000   3982200   \n",
       "4777  694.000000  704.549988  693.500000  703.070007  703.070007   6105600   \n",
       "4778  705.789978  719.000000  701.650024  713.229980  713.229980   7338200   \n",
       "4779  717.380005  722.450012  711.510010  717.929993  717.929993   5048200   \n",
       "4780  714.640015  719.250000  706.510010  709.919983  709.919983   4763400   \n",
       "\n",
       "      Buy_indicator  Day  Month  Year  \n",
       "0                 1   15      5  1997  \n",
       "1                 1   16      5  1997  \n",
       "2                 1   19      5  1997  \n",
       "3                 0   20      5  1997  \n",
       "4                 1   21      5  1997  \n",
       "...             ...  ...    ...   ...  \n",
       "4776              1    9      5  2016  \n",
       "4777              1   10      5  2016  \n",
       "4778              1   11      5  2016  \n",
       "4779              0   12      5  2016  \n",
       "4780              0   13      5  2016  \n",
       "\n",
       "[4781 rows x 10 columns]"
      ]
     },
     "execution_count": 115,
     "metadata": {},
     "output_type": "execute_result"
    }
   ],
   "source": [
    "df_train"
   ]
  },
  {
   "cell_type": "code",
   "execution_count": 117,
   "metadata": {},
   "outputs": [
    {
     "name": "stdout",
     "output_type": "stream",
     "text": [
      "<class 'pandas.core.frame.DataFrame'>\n",
      "RangeIndex: 4781 entries, 0 to 4780\n",
      "Data columns (total 10 columns):\n",
      " #   Column         Non-Null Count  Dtype  \n",
      "---  ------         --------------  -----  \n",
      " 0   Open           4781 non-null   float64\n",
      " 1   High           4781 non-null   float64\n",
      " 2   Low            4781 non-null   float64\n",
      " 3   Close          4781 non-null   float64\n",
      " 4   Adj Close      4781 non-null   float64\n",
      " 5   Volume         4781 non-null   int64  \n",
      " 6   Buy_indicator  4781 non-null   int32  \n",
      " 7   Day            4781 non-null   int32  \n",
      " 8   Month          4781 non-null   int32  \n",
      " 9   Year           4781 non-null   int32  \n",
      "dtypes: float64(5), int32(4), int64(1)\n",
      "memory usage: 298.9 KB\n"
     ]
    }
   ],
   "source": [
    "df_train.info()"
   ]
  },
  {
   "cell_type": "code",
   "execution_count": 119,
   "metadata": {},
   "outputs": [
    {
     "name": "stdout",
     "output_type": "stream",
     "text": [
      "<class 'pandas.core.frame.DataFrame'>\n",
      "RangeIndex: 504 entries, 0 to 503\n",
      "Data columns (total 10 columns):\n",
      " #   Column         Non-Null Count  Dtype  \n",
      "---  ------         --------------  -----  \n",
      " 0   Open           504 non-null    float64\n",
      " 1   High           504 non-null    float64\n",
      " 2   Low            504 non-null    float64\n",
      " 3   Close          504 non-null    float64\n",
      " 4   Adj Close      504 non-null    float64\n",
      " 5   Volume         504 non-null    int64  \n",
      " 6   Buy_indicator  504 non-null    int32  \n",
      " 7   Day            504 non-null    int32  \n",
      " 8   Month          504 non-null    int32  \n",
      " 9   Year           504 non-null    int32  \n",
      "dtypes: float64(5), int32(4), int64(1)\n",
      "memory usage: 31.6 KB\n"
     ]
    }
   ],
   "source": [
    "df_test.info()"
   ]
  },
  {
   "cell_type": "code",
   "execution_count": 121,
   "metadata": {},
   "outputs": [
    {
     "name": "stdout",
     "output_type": "stream",
     "text": [
      "<class 'pandas.core.frame.DataFrame'>\n",
      "RangeIndex: 503 entries, 0 to 502\n",
      "Data columns (total 10 columns):\n",
      " #   Column         Non-Null Count  Dtype  \n",
      "---  ------         --------------  -----  \n",
      " 0   Open           503 non-null    float64\n",
      " 1   High           503 non-null    float64\n",
      " 2   Low            503 non-null    float64\n",
      " 3   Close          503 non-null    float64\n",
      " 4   Adj Close      503 non-null    float64\n",
      " 5   Volume         503 non-null    int64  \n",
      " 6   Buy_indicator  503 non-null    int32  \n",
      " 7   Day            503 non-null    int32  \n",
      " 8   Month          503 non-null    int32  \n",
      " 9   Year           503 non-null    int32  \n",
      "dtypes: float64(5), int32(4), int64(1)\n",
      "memory usage: 31.6 KB\n"
     ]
    }
   ],
   "source": [
    "df_val.info()"
   ]
  },
  {
   "cell_type": "markdown",
   "metadata": {},
   "source": [
    "## Checking any missing values in train, test, valuation of dataset"
   ]
  },
  {
   "cell_type": "code",
   "execution_count": 124,
   "metadata": {},
   "outputs": [
    {
     "data": {
      "text/plain": [
       "Open             0\n",
       "High             0\n",
       "Low              0\n",
       "Close            0\n",
       "Adj Close        0\n",
       "Volume           0\n",
       "Buy_indicator    0\n",
       "Day              0\n",
       "Month            0\n",
       "Year             0\n",
       "dtype: int64"
      ]
     },
     "execution_count": 124,
     "metadata": {},
     "output_type": "execute_result"
    }
   ],
   "source": [
    "df_train.isna().sum()"
   ]
  },
  {
   "cell_type": "code",
   "execution_count": 126,
   "metadata": {},
   "outputs": [
    {
     "data": {
      "text/plain": [
       "Open             0\n",
       "High             0\n",
       "Low              0\n",
       "Close            0\n",
       "Adj Close        0\n",
       "Volume           0\n",
       "Buy_indicator    0\n",
       "Day              0\n",
       "Month            0\n",
       "Year             0\n",
       "dtype: int64"
      ]
     },
     "execution_count": 126,
     "metadata": {},
     "output_type": "execute_result"
    }
   ],
   "source": [
    "df_test.isna().sum()"
   ]
  },
  {
   "cell_type": "code",
   "execution_count": 128,
   "metadata": {},
   "outputs": [
    {
     "data": {
      "text/plain": [
       "Open             0\n",
       "High             0\n",
       "Low              0\n",
       "Close            0\n",
       "Adj Close        0\n",
       "Volume           0\n",
       "Buy_indicator    0\n",
       "Day              0\n",
       "Month            0\n",
       "Year             0\n",
       "dtype: int64"
      ]
     },
     "execution_count": 128,
     "metadata": {},
     "output_type": "execute_result"
    }
   ],
   "source": [
    "df_val.isna().sum()"
   ]
  },
  {
   "cell_type": "markdown",
   "metadata": {},
   "source": [
    "Their is no missing values found in the dataset we can move further for analysis"
   ]
  },
  {
   "cell_type": "markdown",
   "metadata": {},
   "source": [
    "## Correlation"
   ]
  },
  {
   "cell_type": "code",
   "execution_count": 164,
   "metadata": {},
   "outputs": [
    {
     "data": {
      "image/png": "[encoded data removed]",
      "text/plain": [
       "<Figure size 1700x1200 with 2 Axes>"
      ]
     },
     "metadata": {},
     "output_type": "display_data"
    }
   ],
   "source": [
    "plt.figure(figsize=(17, 12))\n",
    "sns.heatmap(df_val.corr(), fmt='.2g', cmap='coolwarm', annot=True)\n",
    "plt.show()"
   ]
  },
  {
   "cell_type": "markdown",
   "metadata": {},
   "source": [
    "the following three datasets are highly imbalace "
   ]
  },
  {
   "cell_type": "markdown",
   "metadata": {},
   "source": [
    "## Dividing dataset for prediction on various ML models."
   ]
  },
  {
   "cell_type": "code",
   "execution_count": 148,
   "metadata": {},
   "outputs": [],
   "source": [
    "X_train, y_train = df_train.drop(columns='Buy_indicator'), df_train['Buy_indicator'].astype(int)\n",
    "X_test, y_test = df_test.drop(columns = 'Buy_indicator'), df_test['Buy_indicator'].astype(int)\n",
    "X_val, y_val = df_val.drop(columns = 'Buy_indicator'), df_val['Buy_indicator'].astype(int)"
   ]
  },
  {
   "cell_type": "code",
   "execution_count": 178,
   "metadata": {},
   "outputs": [
    {
     "name": "stdout",
     "output_type": "stream",
     "text": [
      "logistic regression Validation Accuracy: 0.6441\n",
      "\n",
      "SGD Validation Accuracy: 0.6441\n",
      "\n",
      "Gradient Boosting Validation Accuracy: 0.3519\n",
      "\n",
      "SVC Validation Accuracy: 0.6302\n",
      "\n",
      "Final Model Test Accuracy: 0.4266\n",
      "              precision    recall  f1-score   support\n",
      "\n",
      "           0       0.42      0.96      0.58       214\n",
      "           1       0.36      0.02      0.03       290\n",
      "\n",
      "    accuracy                           0.42       504\n",
      "   macro avg       0.39      0.49      0.31       504\n",
      "weighted avg       0.38      0.42      0.27       504\n",
      "\n"
     ]
    }
   ],
   "source": [
    "from sklearn.linear_model import LogisticRegression, SGDClassifier\n",
    "from sklearn.ensemble import RandomForestClassifier, GradientBoostingClassifier\n",
    "from sklearn.metrics import classification_report, accuracy_score\n",
    "from sklearn.svm import SVC\n",
    "\n",
    "models = {\n",
    "    'logistic regression': LogisticRegression(),\n",
    "    'SGD' : SGDClassifier(),\n",
    "    'Gradient Boosting' : GradientBoostingClassifier(),\n",
    "    'SVC' : SVC()\n",
    "}\n",
    "\n",
    "for name, model in models.items():\n",
    "    model.fit(X_train, y_train)\n",
    "    y_predict = model.predict(X_val)\n",
    "    acc = accuracy_score(y_val, y_predict)\n",
    "    print(f\"{name} Validation Accuracy: {acc:.4f}\\n\")\n",
    "\n",
    "# choose best model from all\n",
    "rfc = RandomForestClassifier()\n",
    "rfc.fit(X_train, y_train)\n",
    "y_test_pred = rfc.predict(X_test)\n",
    "\n",
    "test_acc = accuracy_score(y_test, y_test_pre)\n",
    "print(f\"Final Model Test Accuracy: {test_acc:.4f}\")\n",
    "print(classification_report(y_test, y_test_pred))"
   ]
  },
  {
   "cell_type": "markdown",
   "metadata": {},
   "source": [
    "## Conclusion"
   ]
  },
  {
   "cell_type": "markdown",
   "metadata": {},
   "source": [
    "- logistic regression Validation Accuracy: 0.6441\n",
    "<br>\n",
    "- SGD Validation Accuracy: 0.6441\n",
    "<br>\n",
    "- SVC Validation Accuracy: 0.6302\n",
    "<br>\n",
    "The above model resulting in AUC > 0.515, Which is enough for the Indicator to Buy or Sell Amazon stock. <br>\n",
    "<br>\n",
    "<br>\n",
    "To improve further accuracy of the model:\n",
    " - All train, test, valuation dataset are highly imbalace. you can see that with filter method of correlation in datasets and can remove the variable from the dataset to gain accuracy in the model."
   ]
  },
  {
   "cell_type": "code",
   "execution_count": null,
   "metadata": {},
   "outputs": [],
   "source": []
  },
  {
   "cell_type": "code",
   "execution_count": null,
   "metadata": {},
   "outputs": [],
   "source": []
  },
  {
   "cell_type": "code",
   "execution_count": null,
   "metadata": {},
   "outputs": [],
   "source": []
  },
  {
   "cell_type": "code",
   "execution_count": null,
   "metadata": {},
   "outputs": [],
   "source": []
  },
  {
   "cell_type": "code",
   "execution_count": null,
   "metadata": {},
   "outputs": [],
   "source": []
  },
  {
   "cell_type": "code",
   "execution_count": null,
   "metadata": {},
   "outputs": [],
   "source": []
  },
  {
   "cell_type": "code",
   "execution_count": null,
   "metadata": {},
   "outputs": [],
   "source": []
  }
 ],
 "metadata": {
  "colab": {
   "provenance": []
  },
  "kernelspec": {
   "display_name": "Python 3 (ipykernel)",
   "language": "python",
   "name": "python3"
  },
  "language_info": {
   "codemirror_mode": {
    "name": "ipython",
    "version": 3
   },
   "file_extension": ".py",
   "mimetype": "text/x-python",
   "name": "python",
   "nbconvert_exporter": "python",
   "pygments_lexer": "ipython3",
   "version": "3.12.4"
  }
 },
 "nbformat": 4,
 "nbformat_minor": 4
}
